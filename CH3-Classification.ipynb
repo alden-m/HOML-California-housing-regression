{
  "nbformat": 4,
  "nbformat_minor": 0,
  "metadata": {
    "colab": {
      "provenance": []
    },
    "kernelspec": {
      "name": "python3",
      "display_name": "Python 3"
    },
    "language_info": {
      "name": "python"
    }
  },
  "cells": [
    {
      "cell_type": "code",
      "execution_count": null,
      "metadata": {
        "id": "f4i5qU-6NGO6"
      },
      "outputs": [],
      "source": [
        "from sklearn.datasets import fetch_openml"
      ]
    },
    {
      "cell_type": "code",
      "source": [
        "minst = fetch_openml('mnist_784', as_frame=False,parser=\"auto\")"
      ],
      "metadata": {
        "id": "m7m_2ErW3e4R"
      },
      "execution_count": null,
      "outputs": []
    },
    {
      "cell_type": "code",
      "source": [
        "X, y = minst.data, minst.target\n",
        "\n",
        "print(f\"X shape: {X.shape}\")\n",
        "print(f\"y shape: {y.shape}\")"
      ],
      "metadata": {
        "id": "5ii6LmFH3_op",
        "outputId": "771e08c7-2661-4c89-b81b-638c9b98b9c4",
        "colab": {
          "base_uri": "https://localhost:8080/"
        }
      },
      "execution_count": 16,
      "outputs": [
        {
          "output_type": "stream",
          "name": "stdout",
          "text": [
            "X shape: (70000, 784)\n",
            "y shape: (70000,)\n"
          ]
        }
      ]
    },
    {
      "cell_type": "code",
      "source": [
        "import matplotlib.pyplot as plt\n",
        "\n",
        "def plot_digit(image_data):\n",
        "  image = image_data.reshape(28, 28)\n",
        "  plt.imshow(image, cmap=\"binary\")\n",
        "  plt.axis(\"off\")"
      ],
      "metadata": {
        "id": "Kv63ujTp7AgP"
      },
      "execution_count": 20,
      "outputs": []
    },
    {
      "cell_type": "code",
      "source": [
        "# Explore Data\n",
        "\n",
        "some_digit = X[0]\n",
        "plot_digit(some_digit)\n",
        "plt.show()\n",
        "print(f\"The label for this digit is: {y[0]}\")"
      ],
      "metadata": {
        "id": "TDHeSa747f7Q",
        "outputId": "5364a575-d9d2-48ff-881c-b827f91e6a63",
        "colab": {
          "base_uri": "https://localhost:8080/",
          "height": 424
        }
      },
      "execution_count": 22,
      "outputs": [
        {
          "output_type": "display_data",
          "data": {
            "text/plain": [
              "<Figure size 640x480 with 1 Axes>"
            ],
            "image/png": "[encoded data removed]"
          },
          "metadata": {}
        },
        {
          "output_type": "stream",
          "name": "stdout",
          "text": [
            "The label for this digit is: 5\n"
          ]
        }
      ]
    },
    {
      "cell_type": "code",
      "source": [
        "# Split Dataset -> Train (60k) + Test (10k)\n",
        "X_train, X_test, y_train, y_test = X[:60000], X[60000:], y[:60000], y[60000:]\n",
        "\n",
        "print(f\"X_train size is {X_train.shape} and y_train is {y_train.shape}\")\n",
        "print(f\"X_test size is {X_test.shape} and y_test is {y_test.shape}\")"
      ],
      "metadata": {
        "id": "03zWscwy7job",
        "outputId": "04668c11-31b9-43de-d6c2-d084ee79af6c",
        "colab": {
          "base_uri": "https://localhost:8080/"
        }
      },
      "execution_count": 26,
      "outputs": [
        {
          "output_type": "stream",
          "name": "stdout",
          "text": [
            "X_train size is (60000, 784) and y_train is (60000,)\n",
            "X_test size is (10000, 784) and y_test is (10000,)\n"
          ]
        }
      ]
    },
    {
      "cell_type": "code",
      "source": [
        "# Training Binary Classifier\n",
        "from sklearn.linear_model import SGDClassifier\n",
        "\n",
        "y_train_5 = (y_train == '5')\n",
        "y_test_5 = (y_test == '5')\n",
        "\n",
        "sgd_clf = SGDClassifier(random_state=42)\n",
        "sgd_clf.fit(X_train, y_train_5)\n",
        "sgd_clf.predict([some_digit])\n"
      ],
      "metadata": {
        "id": "71Gd-8zV9GKW",
        "outputId": "47768dba-9ffc-46bf-8f87-5fd2b8a2fd7b",
        "colab": {
          "base_uri": "https://localhost:8080/"
        }
      },
      "execution_count": 30,
      "outputs": [
        {
          "output_type": "execute_result",
          "data": {
            "text/plain": [
              "array([ True])"
            ]
          },
          "metadata": {},
          "execution_count": 30
        }
      ]
    },
    {
      "cell_type": "code",
      "source": [],
      "metadata": {
        "id": "byB46xyK_pgL"
      },
      "execution_count": 29,
      "outputs": []
    }
  ]
}