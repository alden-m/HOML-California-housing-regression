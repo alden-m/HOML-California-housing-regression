{
  "nbformat": 4,
  "nbformat_minor": 0,
  "metadata": {
    "colab": {
      "provenance": []
    },
    "kernelspec": {
      "name": "python3",
      "display_name": "Python 3"
    },
    "language_info": {
      "name": "python"
    }
  },
  "cells": [
    {
      "cell_type": "code",
      "execution_count": 3,
      "metadata": {
        "id": "f4i5qU-6NGO6"
      },
      "outputs": [],
      "source": [
        "from sklearn.datasets import fetch_openml"
      ]
    },
    {
      "cell_type": "code",
      "source": [
        "minst = fetch_openml('mnist_784', as_frame=False,parser=\"auto\")"
      ],
      "metadata": {
        "id": "m7m_2ErW3e4R"
      },
      "execution_count": 9,
      "outputs": []
    },
    {
      "cell_type": "code",
      "source": [
        "property_names = [prop for prop in dir(minst) if not callable(getattr(minst, prop)) and not prop.startswith(\"__\")]\n",
        "\n",
        "for name in property_names:\n",
        "    print(name)"
      ],
      "metadata": {
        "id": "5ii6LmFH3_op",
        "outputId": "50bb9620-6804-48ef-e438-c8f23c696a10",
        "colab": {
          "base_uri": "https://localhost:8080/"
        }
      },
      "execution_count": 11,
      "outputs": [
        {
          "output_type": "stream",
          "name": "stdout",
          "text": [
            "DESCR\n",
            "categories\n",
            "data\n",
            "details\n",
            "feature_names\n",
            "frame\n",
            "target\n",
            "target_names\n",
            "url\n"
          ]
        }
      ]
    }
  ]
}