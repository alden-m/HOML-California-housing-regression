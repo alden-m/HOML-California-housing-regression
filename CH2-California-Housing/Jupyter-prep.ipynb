{
  "nbformat": 4,
  "nbformat_minor": 0,
  "metadata": {
    "colab": {
      "provenance": []
    },
    "kernelspec": {
      "name": "python3",
      "display_name": "Python 3"
    },
    "language_info": {
      "name": "python"
    }
  },
  "cells": [
    {
      "cell_type": "code",
      "execution_count": 3,
      "metadata": {
        "id": "f4i5qU-6NGO6"
      },
      "outputs": [],
      "source": [
        "import sklearn\n",
        "import sklearn.preprocessing as preprocessing\n",
        "import pandas as pd\n",
        "\n",
        "sklearn.set_config(transform_output=\"pandas\")"
      ]
    },
    {
      "cell_type": "code",
      "source": [
        "# Pre-processing: Cateogry -> 0, 1, 2, 3 ..etc\n",
        "test_data = pd.DataFrame({\n",
        "    \"Color\" : [\"A\", \"A\", \"B\", \"C\"]\n",
        "})\n",
        "\n",
        "encoder = preprocessing.OrdinalEncoder()\n",
        "encoder.fit(test_data)\n",
        "test_data_tr = encoder.transform(test_data)\n",
        "print(f\"Categories: \\n\\t {encoder.categories_}\")\n",
        "print(f\"Transformed: \\n {test_data_tr}\")"
      ],
      "metadata": {
        "id": "m4vLOCyndhVp",
        "outputId": "c5989699-972f-463f-a28d-99eb22b3adfe",
        "colab": {
          "base_uri": "https://localhost:8080/"
        }
      },
      "execution_count": 22,
      "outputs": [
        {
          "output_type": "stream",
          "name": "stdout",
          "text": [
            "Categories: \n",
            "\t [array(['A', 'B', 'C'], dtype=object)]\n",
            "Transformed: \n",
            "    Color\n",
            "0    0.0\n",
            "1    0.0\n",
            "2    1.0\n",
            "3    2.0\n"
          ]
        }
      ]
    }
  ]
}