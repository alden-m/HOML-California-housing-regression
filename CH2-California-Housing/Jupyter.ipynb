{
  "nbformat": 4,
  "nbformat_minor": 0,
  "metadata": {
    "colab": {
      "provenance": []
    },
    "kernelspec": {
      "name": "python3",
      "display_name": "Python 3"
    },
    "language_info": {
      "name": "python"
    }
  },
  "cells": [
    {
      "cell_type": "code",
      "execution_count": 19,
      "metadata": {
        "id": "f4i5qU-6NGO6"
      },
      "outputs": [],
      "source": [
        "# Imports\n",
        "from pathlib import Path\n",
        "import pandas as pd\n",
        "import tarfile\n",
        "import requests"
      ]
    },
    {
      "cell_type": "code",
      "source": [
        "def load_housing_data():\n",
        "  tar_path = Path(\"datasets/housing.tgz\")\n",
        "\n",
        "  if not tar_path.is_file():\n",
        "    Path(\"datasets\").mkdir(parents=True, exist_ok=True)\n",
        "    url = \"https://github.com/ageron/data/raw/main/housing.tgz\"\n",
        "\n",
        "    # download .tgz\n",
        "    response = requests.get(url)\n",
        "    assert response.status_code == 200, \"failed to download the data file\"\n",
        "    with open(tar_path, \"wb\") as file:\n",
        "      file.write(response.content)\n",
        "\n",
        "    # extract .tgz\n",
        "    with tarfile.open(tar_path) as file:\n",
        "      file.extractall(Path(\"datasets\"))\n",
        "\n",
        "  # read as DataFrame\n",
        "  return pd.read_csv(Path(\"datasets/housing/housing.csv\"));"
      ],
      "metadata": {
        "id": "mz2cvbJOO_KI"
      },
      "execution_count": 48,
      "outputs": []
    },
    {
      "cell_type": "code",
      "source": [
        "housing = load_housing_data()\n",
        "print(housing.head())"
      ],
      "metadata": {
        "id": "8UIjrM7tVVm-",
        "outputId": "512775b7-a638-439b-a28e-5cfeca7a9540",
        "colab": {
          "base_uri": "https://localhost:8080/"
        }
      },
      "execution_count": 51,
      "outputs": [
        {
          "output_type": "stream",
          "name": "stdout",
          "text": [
            "   longitude  latitude  housing_median_age  total_rooms  total_bedrooms  \\\n",
            "0    -122.23     37.88                41.0        880.0           129.0   \n",
            "1    -122.22     37.86                21.0       7099.0          1106.0   \n",
            "2    -122.24     37.85                52.0       1467.0           190.0   \n",
            "3    -122.25     37.85                52.0       1274.0           235.0   \n",
            "4    -122.25     37.85                52.0       1627.0           280.0   \n",
            "\n",
            "   population  households  median_income  median_house_value ocean_proximity  \n",
            "0       322.0       126.0         8.3252            452600.0        NEAR BAY  \n",
            "1      2401.0      1138.0         8.3014            358500.0        NEAR BAY  \n",
            "2       496.0       177.0         7.2574            352100.0        NEAR BAY  \n",
            "3       558.0       219.0         5.6431            341300.0        NEAR BAY  \n",
            "4       565.0       259.0         3.8462            342200.0        NEAR BAY  \n"
          ]
        }
      ]
    }
  ]
}