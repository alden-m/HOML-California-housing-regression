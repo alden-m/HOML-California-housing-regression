{
  "nbformat": 4,
  "nbformat_minor": 0,
  "metadata": {
    "colab": {
      "provenance": []
    },
    "kernelspec": {
      "name": "python3",
      "display_name": "Python 3"
    },
    "language_info": {
      "name": "python"
    }
  },
  "cells": [
    {
      "cell_type": "code",
      "execution_count": 2,
      "metadata": {
        "id": "f4i5qU-6NGO6"
      },
      "outputs": [],
      "source": [
        "import numpy as np\n",
        "from sklearn.preprocessing import add_dummy_feature\n",
        "\n",
        "np.random.seed(42)"
      ]
    },
    {
      "cell_type": "code",
      "source": [
        "# Finding Coefficients - Closed Form\n",
        "\n",
        "\n",
        "m = 100\n",
        "X_train = np.random.rand(m, 1)    # column vector\n",
        "y = 4 + 3 * X_train + np.random.rand(m, 1)    # column vector\n",
        "\n",
        "XX = add_dummy_feature(X_train)  # represents x0 =1\n",
        "\n",
        "result = np.linalg.inv(XX.T @ XX) @ XX.T @ y\n",
        "\n",
        "print(f\"Coefficients:  X0 coeff/Constant/Intercept is {result[0]} and x1 coeff is {result[1]}}\")"
      ],
      "metadata": {
        "colab": {
          "base_uri": "https://localhost:8080/"
        },
        "id": "eQpx4zsbaBea",
        "outputId": "13ed980f-767c-4f1d-8a00-a620d9e949e3"
      },
      "execution_count": 15,
      "outputs": [
        {
          "output_type": "stream",
          "name": "stdout",
          "text": [
            "Coefficients for x0(constant/intercept) and x1 is [[4.4189274 ]\n",
            " [3.14424231]]\n"
          ]
        }
      ]
    },
    {
      "cell_type": "code",
      "source": [],
      "metadata": {
        "id": "mBlUg8XIUvyc"
      },
      "execution_count": null,
      "outputs": []
    }
  ]
}