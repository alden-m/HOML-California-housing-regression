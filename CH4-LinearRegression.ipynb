{
  "nbformat": 4,
  "nbformat_minor": 0,
  "metadata": {
    "colab": {
      "provenance": []
    },
    "kernelspec": {
      "name": "python3",
      "display_name": "Python 3"
    },
    "language_info": {
      "name": "python"
    }
  },
  "cells": [
    {
      "cell_type": "code",
      "execution_count": 3,
      "metadata": {
        "id": "f4i5qU-6NGO6"
      },
      "outputs": [],
      "source": [
        "import numpy as np\n"
      ]
    },
    {
      "cell_type": "code",
      "source": [
        "# Finding Coefficients - Closed Form\n",
        "\n",
        "X = np.array([[1, 1], [1, 2], [1, 3], [1, 4]])\n",
        "y = np.array([2, 3, 2.5, 5])\n",
        "\n",
        "result = np.linalg.inv(X.T @ X) @ X.T @ y\n",
        "\n",
        "print(result)"
      ],
      "metadata": {
        "id": "eQpx4zsbaBea",
        "outputId": "01d49a43-0d3f-442c-ca1e-ad93ddfd4bc8",
        "colab": {
          "base_uri": "https://localhost:8080/"
        }
      },
      "execution_count": 12,
      "outputs": [
        {
          "output_type": "stream",
          "name": "stdout",
          "text": [
            "[1.   0.85]\n"
          ]
        }
      ]
    }
  ]
}